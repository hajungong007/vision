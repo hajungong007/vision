{
 "cells": [
  {
   "cell_type": "code",
   "execution_count": 29,
   "metadata": {
    "collapsed": false
   },
   "outputs": [],
   "source": [
    "import random\n",
    "import numpy as np\n",
    "import sys\n",
    "import ourcvfh_regression.data_utils as data_utils\n",
    "import matplotlib.pyplot as plt\n",
    "\n",
    "# This is a bit of magic to make matplotlib figures appear inline in the\n",
    "# notebook rather than in a new window.\n",
    "%matplotlib inline\n",
    "plt.rcParams['figure.figsize'] = (10.0, 8.0) # set default size of plots\n",
    "plt.rcParams['image.interpolation'] = 'nearest'\n",
    "plt.rcParams['image.cmap'] = 'gray'\n",
    "\n",
    "# Some more magic so that the notebook will reload external python modules;\n",
    "# see http://stackoverflow.com/questions/1907993/autoreload-of-modules-in-ipython\n",
    "%load_ext autoreload\n",
    "%autoreload 2"
   ]
  },
  {
   "cell_type": "code",
   "execution_count": 30,
   "metadata": {
    "collapsed": false
   },
   "outputs": [
    {
     "name": "stdout",
     "output_type": "stream",
     "text": [
      "hists: (643, 308)\n",
      "rolls: (643, 16)\n",
      "poses: (643, 16)\n",
      "hists_test: (128, 308)\n",
      "hists_val: (128, 308)\n",
      "hists_train: (413, 308)\n",
      "rolls_test: (128, 16)\n",
      "rolls_val: (128, 16)\n",
      "rolls_train: (413, 16)\n",
      "poses_test: (128, 16)\n",
      "poses_val: (128, 16)\n",
      "poses_train: (413, 16)\n"
     ]
    }
   ],
   "source": [
    "reload(sys.modules['ourcvfh_regression.data_utils'])\n",
    "hists, rolls, poses = data_utils.load_data()\n",
    "print \"hists:\", hists.shape\n",
    "print \"rolls:\", rolls.shape\n",
    "print \"poses:\", poses.shape\n",
    "\n",
    "rand_indexes = np.random.randint(hists.shape[0], size = 128)\n",
    "hists_test = hists[rand_indexes,:]\n",
    "hists = np.delete(hists, rand_indexes, 0)\n",
    "\n",
    "rolls_test = rolls[rand_indexes,:]\n",
    "rolls = np.delete(rolls, rand_indexes, 0)\n",
    "\n",
    "poses_test = poses[rand_indexes,:]\n",
    "poses = np.delete(poses, rand_indexes, 0)\n",
    "\n",
    "rand_indexes = np.random.randint(hists.shape[0], size = 128)\n",
    "hists_val = hists[rand_indexes,:]\n",
    "hists_train = np.delete(hists, rand_indexes, 0)\n",
    "\n",
    "rolls_val = rolls[rand_indexes,:]\n",
    "rolls_train = np.delete(rolls, rand_indexes, 0)\n",
    "\n",
    "poses_val = poses[rand_indexes,:]\n",
    "poses_train = np.delete(poses, rand_indexes, 0)\n",
    "\n",
    "\n",
    "\n",
    "print \"hists_test:\",hists_test.shape\n",
    "print \"hists_val:\",hists_val.shape\n",
    "print \"hists_train:\",hists_train.shape\n",
    "\n",
    "print \"rolls_test:\",rolls_test.shape\n",
    "print \"rolls_val:\",rolls_val.shape\n",
    "print \"rolls_train:\",rolls_train.shape\n",
    "\n",
    "print \"poses_test:\",poses_test.shape\n",
    "print \"poses_val:\",poses_val.shape\n",
    "print \"poses_train:\",poses_train.shape"
   ]
  },
  {
   "cell_type": "code",
   "execution_count": 33,
   "metadata": {
    "collapsed": false
   },
   "outputs": [
    {
     "ename": "ValueError",
     "evalue": "operands could not be broadcast together with shapes (128,16) (128,308) ",
     "output_type": "error",
     "traceback": [
      "\u001b[1;31m---------------------------------------------------------------------------\u001b[0m",
      "\u001b[1;31mValueError\u001b[0m                                Traceback (most recent call last)",
      "\u001b[1;32m<ipython-input-33-d6685cad64bf>\u001b[0m in \u001b[0;36m<module>\u001b[1;34m()\u001b[0m\n\u001b[0;32m      3\u001b[0m \u001b[0mclassifier\u001b[0m \u001b[1;33m=\u001b[0m \u001b[0mLinearClassifier\u001b[0m\u001b[1;33m(\u001b[0m\u001b[0mhists\u001b[0m\u001b[1;33m.\u001b[0m\u001b[0mshape\u001b[0m\u001b[1;33m[\u001b[0m\u001b[1;36m1\u001b[0m\u001b[1;33m]\u001b[0m\u001b[1;33m,\u001b[0m \u001b[0mposes\u001b[0m\u001b[1;33m.\u001b[0m\u001b[0mshape\u001b[0m\u001b[1;33m[\u001b[0m\u001b[1;36m1\u001b[0m\u001b[1;33m]\u001b[0m\u001b[1;33m)\u001b[0m\u001b[1;33m;\u001b[0m\u001b[1;33m\u001b[0m\u001b[0m\n\u001b[0;32m      4\u001b[0m \u001b[1;33m\u001b[0m\u001b[0m\n\u001b[1;32m----> 5\u001b[1;33m \u001b[0mloss\u001b[0m\u001b[1;33m,\u001b[0m \u001b[0mgrad\u001b[0m \u001b[1;33m=\u001b[0m \u001b[0mclassifier\u001b[0m\u001b[1;33m.\u001b[0m\u001b[0mloss\u001b[0m\u001b[1;33m(\u001b[0m\u001b[0mhists_test\u001b[0m\u001b[1;33m,\u001b[0m \u001b[0mposes_test\u001b[0m\u001b[1;33m,\u001b[0m \u001b[1;36m0.0\u001b[0m\u001b[1;33m)\u001b[0m\u001b[1;33m\u001b[0m\u001b[0m\n\u001b[0m\u001b[0;32m      6\u001b[0m \u001b[1;33m\u001b[0m\u001b[0m\n\u001b[0;32m      7\u001b[0m \u001b[1;31m#Gradient checking\u001b[0m\u001b[1;33m\u001b[0m\u001b[1;33m\u001b[0m\u001b[0m\n",
      "\u001b[1;32m/home/msdu/catkin_ws/src/vision/pcl/test/ourcvfh_regression/linear_regression.py\u001b[0m in \u001b[0;36mloss\u001b[1;34m(self, X_batch, y_batch, reg)\u001b[0m\n\u001b[0;32m    126\u001b[0m     \u001b[0mdW\u001b[0m \u001b[1;33m=\u001b[0m \u001b[0mnp\u001b[0m\u001b[1;33m.\u001b[0m\u001b[0mzeros_like\u001b[0m\u001b[1;33m(\u001b[0m\u001b[0mW\u001b[0m\u001b[1;33m)\u001b[0m\u001b[1;33m\u001b[0m\u001b[0m\n\u001b[0;32m    127\u001b[0m \u001b[1;33m\u001b[0m\u001b[0m\n\u001b[1;32m--> 128\u001b[1;33m     \u001b[0mdW\u001b[0m \u001b[1;33m=\u001b[0m \u001b[1;33m(\u001b[0m\u001b[0mX_batch\u001b[0m\u001b[1;33m.\u001b[0m\u001b[0mdot\u001b[0m\u001b[1;33m(\u001b[0m\u001b[0mW\u001b[0m\u001b[1;33m)\u001b[0m \u001b[1;33m-\u001b[0m \u001b[0my_batch\u001b[0m\u001b[1;33m)\u001b[0m \u001b[1;33m*\u001b[0m \u001b[0mX_batch\u001b[0m\u001b[1;33m\u001b[0m\u001b[0m\n\u001b[0m\u001b[0;32m    129\u001b[0m \u001b[1;33m\u001b[0m\u001b[0m\n\u001b[0;32m    130\u001b[0m     \u001b[1;32mprint\u001b[0m \u001b[0mdW\u001b[0m\u001b[1;33m.\u001b[0m\u001b[0mshape\u001b[0m\u001b[1;33m\u001b[0m\u001b[0m\n",
      "\u001b[1;31mValueError\u001b[0m: operands could not be broadcast together with shapes (128,16) (128,308) "
     ]
    }
   ],
   "source": [
    "from ourcvfh_regression.linear_regression import LinearClassifier\n",
    "\n",
    "classifier = LinearClassifier(hists.shape[1], poses.shape[1]);\n",
    "\n",
    "loss, grad = classifier.loss(hists_test, poses_test, 0.0)\n",
    "\n",
    "#Gradient checking\n",
    "# no reg\n",
    "#from ourcvfh_regression.gradient_check import grad_check_sparse\n",
    "#f = lambda w: svm_loss_naive(w, X_dev, y_dev, 0.0)[0]\n",
    "#grad_numerical = grad_check_sparse(f, W, grad)\n",
    "\n",
    "# with reg\n",
    "#loss, grad = svm_loss_naive(W, X_dev, y_dev, 1e2)\n",
    "#f = lambda w: svm_loss_naive(w, X_dev, y_dev, 1e2)[0]\n",
    "#grad_numerical = grad_check_sparse(f, W, grad)\n"
   ]
  },
  {
   "cell_type": "code",
   "execution_count": null,
   "metadata": {
    "collapsed": true
   },
   "outputs": [],
   "source": [
    "\n",
    "\n",
    "loss_hist = classifier.train(hists_train, poses_train, learning_rate=1e-7, reg=5e4,\n",
    "                      num_iters=1500, verbose=True)"
   ]
  }
 ],
 "metadata": {
  "kernelspec": {
   "display_name": "Python 2",
   "language": "python",
   "name": "python2"
  },
  "language_info": {
   "codemirror_mode": {
    "name": "ipython",
    "version": 2
   },
   "file_extension": ".py",
   "mimetype": "text/x-python",
   "name": "python",
   "nbconvert_exporter": "python",
   "pygments_lexer": "ipython2",
   "version": "2.7.11"
  }
 },
 "nbformat": 4,
 "nbformat_minor": 0
}
